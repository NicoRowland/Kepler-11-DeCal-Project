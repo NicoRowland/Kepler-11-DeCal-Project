{
 "cells": [
  {
   "cell_type": "code",
   "execution_count": 2,
   "id": "5c12feb8",
   "metadata": {},
   "outputs": [],
   "source": [
    "import numpy as np\n",
    "import matplotlib.pyplot as plt\n",
    "from scipy.integrate import odeint"
   ]
  },
  {
   "cell_type": "code",
   "execution_count": 1,
   "id": "7c7e68ce",
   "metadata": {},
   "outputs": [],
   "source": [
    "G = 6.6743e-11\n",
    "M_s = 1.889e30"
   ]
  },
  {
   "cell_type": "code",
   "execution_count": 2,
   "id": "17150739",
   "metadata": {},
   "outputs": [],
   "source": [
    "# the model for integration:\n",
    "def modelx(X, t):\n",
    "    return[X[1], G*M_s/np.square(X[0])]\n",
    "#X[0] is the x-velocity\n",
    "#X[1] is the x-acceleration\n",
    "def modely(Y,t):\n",
    "    return[Y[1], G*M_s/np.square(Y[0])]\n",
    "#Y[0] is the y-velocity\n",
    "#Y[1] is the y-acceleration"
   ]
  },
  {
   "cell_type": "code",
   "execution_count": null,
   "id": "9d6e569f",
   "metadata": {},
   "outputs": [],
   "source": [
    "#The differential equation of motion:\n",
    "xInit = \n",
    "yInit = \n",
    "vxInit =\n",
    "vyInit = \n",
    "def eom():\n",
    "    step = np.linspace(0,50, 0.0001)\n",
    "    xpos, xvelocity = odeint(modelx,[xInit,vxInit], step)\n",
    "    ypos, yvelocity = odeint(modely,[yInit,vyInit], step)"
   ]
  },
  {
   "cell_type": "code",
   "execution_count": null,
   "id": "dd92e837",
   "metadata": {},
   "outputs": [],
   "source": [
    "# we need the initial positions and velocities as an np.array\n",
    "# the above solves separately x and y position and velocity vs. time, I doubt whether we need the velocity component\n",
    "# we can then graph parametrically the result under a while loop"
   ]
  }
 ],
 "metadata": {
  "kernelspec": {
   "display_name": "Python 3 (ipykernel)",
   "language": "python",
   "name": "python3"
  },
  "language_info": {
   "codemirror_mode": {
    "name": "ipython",
    "version": 3
   },
   "file_extension": ".py",
   "mimetype": "text/x-python",
   "name": "python",
   "nbconvert_exporter": "python",
   "pygments_lexer": "ipython3",
   "version": "3.9.13"
  }
 },
 "nbformat": 4,
 "nbformat_minor": 5
}
