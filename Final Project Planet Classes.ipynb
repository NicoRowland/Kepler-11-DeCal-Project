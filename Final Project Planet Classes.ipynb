{
 "cells": [
  {
   "cell_type": "code",
   "execution_count": 1,
   "id": "c53a0c85",
   "metadata": {},
   "outputs": [],
   "source": [
    "import pandas as pd\n",
    "import numpy as np\n",
    "import astropy.units as u\n",
    "import astropy.constants as c\n",
    "import matplotlib.pyplot as plt\n",
    "\n",
    "import scipy\n",
    "import scipy.integrate\n",
    "from scipy.misc import derivative\n",
    "from scipy import integrate \n",
    "\n",
    "from mpl_toolkits.mplot3d import Axes3D\n",
    "from matplotlib.animation import FFMpegWriter\n",
    "\n",
    "# Just for the Window Pop Out thing for WINDOWS\n",
    "# %matplotlib qt"
   ]
  },
  {
   "cell_type": "markdown",
   "id": "174384ac",
   "metadata": {},
   "source": [
    "<B>Revised Data From Kepler 11</B>"
   ]
  },
  {
   "cell_type": "code",
   "execution_count": 2,
   "id": "34005bc6",
   "metadata": {},
   "outputs": [],
   "source": [
    "K11Data = pd.read_csv('Kepler11Data.csv', header=None)"
   ]
  },
  {
   "cell_type": "markdown",
   "id": "2d9605d9",
   "metadata": {},
   "source": [
    "<b>Properties Needed From CSV:</b>  \n",
    "Orbital Period (Days)   \n",
    "Orbital Semi-Major Axis (au)  \n",
    "Planet Radius (Earth radii)  \n",
    "Planet Mass (Earth mass)  \n",
    "Orbit Eccentricity (NO UNITS)  \n",
    "Stellar Mass (Solar Mass)\n",
    "\n",
    "--------------\n",
    "<b>Probably Not Useful (all values are the same)</b>\n",
    "  \n",
    "Distance fom earth (Parsecs)  \n",
    "RA (degrees)  \n",
    "Dec (degrees) n\n",
    "\n",
    "--------------------------------------------------------------"
   ]
  },
  {
   "cell_type": "code",
   "execution_count": 3,
   "id": "b9bd6d85",
   "metadata": {},
   "outputs": [
    {
     "data": {
      "text/html": [
       "<div>\n",
       "<style scoped>\n",
       "    .dataframe tbody tr th:only-of-type {\n",
       "        vertical-align: middle;\n",
       "    }\n",
       "\n",
       "    .dataframe tbody tr th {\n",
       "        vertical-align: top;\n",
       "    }\n",
       "\n",
       "    .dataframe thead th {\n",
       "        text-align: right;\n",
       "    }\n",
       "</style>\n",
       "<table border=\"1\" class=\"dataframe\">\n",
       "  <thead>\n",
       "    <tr style=\"text-align: right;\">\n",
       "      <th></th>\n",
       "      <th>0</th>\n",
       "      <th>1</th>\n",
       "      <th>2</th>\n",
       "      <th>3</th>\n",
       "      <th>4</th>\n",
       "      <th>5</th>\n",
       "      <th>6</th>\n",
       "      <th>7</th>\n",
       "      <th>8</th>\n",
       "      <th>9</th>\n",
       "      <th>...</th>\n",
       "      <th>74</th>\n",
       "      <th>75</th>\n",
       "      <th>76</th>\n",
       "      <th>77</th>\n",
       "      <th>78</th>\n",
       "      <th>79</th>\n",
       "      <th>80</th>\n",
       "      <th>81</th>\n",
       "      <th>82</th>\n",
       "      <th>83</th>\n",
       "    </tr>\n",
       "  </thead>\n",
       "  <tbody>\n",
       "    <tr>\n",
       "      <th>0</th>\n",
       "      <td>pl_name</td>\n",
       "      <td>hostname</td>\n",
       "      <td>sy_snum</td>\n",
       "      <td>sy_pnum</td>\n",
       "      <td>discoverymethod</td>\n",
       "      <td>disc_year</td>\n",
       "      <td>disc_facility</td>\n",
       "      <td>pl_controv_flag</td>\n",
       "      <td>pl_orbper</td>\n",
       "      <td>pl_orbpererr1</td>\n",
       "      <td>...</td>\n",
       "      <td>sy_disterr2</td>\n",
       "      <td>sy_vmag</td>\n",
       "      <td>sy_vmagerr1</td>\n",
       "      <td>sy_vmagerr2</td>\n",
       "      <td>sy_kmag</td>\n",
       "      <td>sy_kmagerr1</td>\n",
       "      <td>sy_kmagerr2</td>\n",
       "      <td>sy_gaiamag</td>\n",
       "      <td>sy_gaiamagerr1</td>\n",
       "      <td>sy_gaiamagerr2</td>\n",
       "    </tr>\n",
       "    <tr>\n",
       "      <th>1</th>\n",
       "      <td>Kepler-11 b</td>\n",
       "      <td>Kepler-11</td>\n",
       "      <td>1</td>\n",
       "      <td>6</td>\n",
       "      <td>Transit</td>\n",
       "      <td>2010</td>\n",
       "      <td>Kepler</td>\n",
       "      <td>0</td>\n",
       "      <td>10.30390000</td>\n",
       "      <td>0.00060000</td>\n",
       "      <td>...</td>\n",
       "      <td>-6.3750000</td>\n",
       "      <td>13.8170000</td>\n",
       "      <td>0.0920000</td>\n",
       "      <td>-0.0920000</td>\n",
       "      <td>12.1800000</td>\n",
       "      <td>0.0200000</td>\n",
       "      <td>-0.0200000</td>\n",
       "      <td>13.7062000</td>\n",
       "      <td>0.0002710</td>\n",
       "      <td>-0.0002710</td>\n",
       "    </tr>\n",
       "    <tr>\n",
       "      <th>2</th>\n",
       "      <td>Kepler-11 c</td>\n",
       "      <td>Kepler-11</td>\n",
       "      <td>1</td>\n",
       "      <td>6</td>\n",
       "      <td>Transit</td>\n",
       "      <td>2010</td>\n",
       "      <td>Kepler</td>\n",
       "      <td>0</td>\n",
       "      <td>13.02410000</td>\n",
       "      <td>0.00130000</td>\n",
       "      <td>...</td>\n",
       "      <td>-6.3750000</td>\n",
       "      <td>13.8170000</td>\n",
       "      <td>0.0920000</td>\n",
       "      <td>-0.0920000</td>\n",
       "      <td>12.1800000</td>\n",
       "      <td>0.0200000</td>\n",
       "      <td>-0.0200000</td>\n",
       "      <td>13.7062000</td>\n",
       "      <td>0.0002710</td>\n",
       "      <td>-0.0002710</td>\n",
       "    </tr>\n",
       "    <tr>\n",
       "      <th>3</th>\n",
       "      <td>Kepler-11 d</td>\n",
       "      <td>Kepler-11</td>\n",
       "      <td>1</td>\n",
       "      <td>6</td>\n",
       "      <td>Transit</td>\n",
       "      <td>2010</td>\n",
       "      <td>Kepler</td>\n",
       "      <td>0</td>\n",
       "      <td>22.68450000</td>\n",
       "      <td>0.00090000</td>\n",
       "      <td>...</td>\n",
       "      <td>-6.3750000</td>\n",
       "      <td>13.8170000</td>\n",
       "      <td>0.0920000</td>\n",
       "      <td>-0.0920000</td>\n",
       "      <td>12.1800000</td>\n",
       "      <td>0.0200000</td>\n",
       "      <td>-0.0200000</td>\n",
       "      <td>13.7062000</td>\n",
       "      <td>0.0002710</td>\n",
       "      <td>-0.0002710</td>\n",
       "    </tr>\n",
       "    <tr>\n",
       "      <th>4</th>\n",
       "      <td>Kepler-11 e</td>\n",
       "      <td>Kepler-11</td>\n",
       "      <td>1</td>\n",
       "      <td>6</td>\n",
       "      <td>Transit</td>\n",
       "      <td>2010</td>\n",
       "      <td>Kepler</td>\n",
       "      <td>0</td>\n",
       "      <td>31.99960000</td>\n",
       "      <td>0.00080000</td>\n",
       "      <td>...</td>\n",
       "      <td>-6.3750000</td>\n",
       "      <td>13.8170000</td>\n",
       "      <td>0.0920000</td>\n",
       "      <td>-0.0920000</td>\n",
       "      <td>12.1800000</td>\n",
       "      <td>0.0200000</td>\n",
       "      <td>-0.0200000</td>\n",
       "      <td>13.7062000</td>\n",
       "      <td>0.0002710</td>\n",
       "      <td>-0.0002710</td>\n",
       "    </tr>\n",
       "    <tr>\n",
       "      <th>5</th>\n",
       "      <td>Kepler-11 f</td>\n",
       "      <td>Kepler-11</td>\n",
       "      <td>1</td>\n",
       "      <td>6</td>\n",
       "      <td>Transit</td>\n",
       "      <td>2010</td>\n",
       "      <td>Kepler</td>\n",
       "      <td>0</td>\n",
       "      <td>46.68880000</td>\n",
       "      <td>0.00270000</td>\n",
       "      <td>...</td>\n",
       "      <td>-6.3750000</td>\n",
       "      <td>13.8170000</td>\n",
       "      <td>0.0920000</td>\n",
       "      <td>-0.0920000</td>\n",
       "      <td>12.1800000</td>\n",
       "      <td>0.0200000</td>\n",
       "      <td>-0.0200000</td>\n",
       "      <td>13.7062000</td>\n",
       "      <td>0.0002710</td>\n",
       "      <td>-0.0002710</td>\n",
       "    </tr>\n",
       "    <tr>\n",
       "      <th>6</th>\n",
       "      <td>Kepler-11 g</td>\n",
       "      <td>Kepler-11</td>\n",
       "      <td>1</td>\n",
       "      <td>6</td>\n",
       "      <td>Transit</td>\n",
       "      <td>2010</td>\n",
       "      <td>Kepler</td>\n",
       "      <td>0</td>\n",
       "      <td>118.38070000</td>\n",
       "      <td>0.00100000</td>\n",
       "      <td>...</td>\n",
       "      <td>-6.3750000</td>\n",
       "      <td>13.8170000</td>\n",
       "      <td>0.0920000</td>\n",
       "      <td>-0.0920000</td>\n",
       "      <td>12.1800000</td>\n",
       "      <td>0.0200000</td>\n",
       "      <td>-0.0200000</td>\n",
       "      <td>13.7062000</td>\n",
       "      <td>0.0002710</td>\n",
       "      <td>-0.0002710</td>\n",
       "    </tr>\n",
       "  </tbody>\n",
       "</table>\n",
       "<p>7 rows × 84 columns</p>\n",
       "</div>"
      ],
      "text/plain": [
       "            0          1        2        3                4          5   \\\n",
       "0      pl_name   hostname  sy_snum  sy_pnum  discoverymethod  disc_year   \n",
       "1  Kepler-11 b  Kepler-11        1        6          Transit       2010   \n",
       "2  Kepler-11 c  Kepler-11        1        6          Transit       2010   \n",
       "3  Kepler-11 d  Kepler-11        1        6          Transit       2010   \n",
       "4  Kepler-11 e  Kepler-11        1        6          Transit       2010   \n",
       "5  Kepler-11 f  Kepler-11        1        6          Transit       2010   \n",
       "6  Kepler-11 g  Kepler-11        1        6          Transit       2010   \n",
       "\n",
       "              6                7             8              9   ...  \\\n",
       "0  disc_facility  pl_controv_flag     pl_orbper  pl_orbpererr1  ...   \n",
       "1         Kepler                0   10.30390000     0.00060000  ...   \n",
       "2         Kepler                0   13.02410000     0.00130000  ...   \n",
       "3         Kepler                0   22.68450000     0.00090000  ...   \n",
       "4         Kepler                0   31.99960000     0.00080000  ...   \n",
       "5         Kepler                0   46.68880000     0.00270000  ...   \n",
       "6         Kepler                0  118.38070000     0.00100000  ...   \n",
       "\n",
       "            74          75           76           77          78           79  \\\n",
       "0  sy_disterr2     sy_vmag  sy_vmagerr1  sy_vmagerr2     sy_kmag  sy_kmagerr1   \n",
       "1   -6.3750000  13.8170000    0.0920000   -0.0920000  12.1800000    0.0200000   \n",
       "2   -6.3750000  13.8170000    0.0920000   -0.0920000  12.1800000    0.0200000   \n",
       "3   -6.3750000  13.8170000    0.0920000   -0.0920000  12.1800000    0.0200000   \n",
       "4   -6.3750000  13.8170000    0.0920000   -0.0920000  12.1800000    0.0200000   \n",
       "5   -6.3750000  13.8170000    0.0920000   -0.0920000  12.1800000    0.0200000   \n",
       "6   -6.3750000  13.8170000    0.0920000   -0.0920000  12.1800000    0.0200000   \n",
       "\n",
       "            80          81              82              83  \n",
       "0  sy_kmagerr2  sy_gaiamag  sy_gaiamagerr1  sy_gaiamagerr2  \n",
       "1   -0.0200000  13.7062000       0.0002710      -0.0002710  \n",
       "2   -0.0200000  13.7062000       0.0002710      -0.0002710  \n",
       "3   -0.0200000  13.7062000       0.0002710      -0.0002710  \n",
       "4   -0.0200000  13.7062000       0.0002710      -0.0002710  \n",
       "5   -0.0200000  13.7062000       0.0002710      -0.0002710  \n",
       "6   -0.0200000  13.7062000       0.0002710      -0.0002710  \n",
       "\n",
       "[7 rows x 84 columns]"
      ]
     },
     "execution_count": 3,
     "metadata": {},
     "output_type": "execute_result"
    }
   ],
   "source": [
    "K11Data"
   ]
  },
  {
   "cell_type": "code",
   "execution_count": 35,
   "id": "d5d4fd31",
   "metadata": {},
   "outputs": [
    {
     "name": "stdout",
     "output_type": "stream",
     "text": [
      "1.9 earthMass\n"
     ]
    },
    {
     "data": {
      "text/plain": [
       "<bound method IrreducibleUnit.decompose of Unit(\"kg\")>"
      ]
     },
     "execution_count": 35,
     "metadata": {},
     "output_type": "execute_result"
    }
   ],
   "source": [
    "# Defining Solar Mass\n",
    "SMass = float(K11Data.iloc[1,55]) * u.Msun\n",
    "# Classifying Planets\n",
    "class planets:\n",
    "    def __init__ (body, OrbPer, OrbMaj, OrbEcc, PRad, PMass):\n",
    "        body.OrbPer = OrbPer\n",
    "        body.OrbMaj = OrbMaj\n",
    "        body.OrbEcc = OrbEcc\n",
    "        body.PRad = PRad\n",
    "        body.PMass = PMass \n",
    "    def simple_radii(a): #Equating Angular Acceleration to the Force of Gravity to find r\n",
    "        M = SMass.to(u.kg) * u.kg\n",
    "        x = M * c.G * (a.OrbPer.to(u.s) * u.s)**2\n",
    "        y = (2*np.pi)**2\n",
    "        return (x / y)**(1/3)\n",
    "    def real_radii(p):\n",
    "        e = p.OrbEcc\n",
    "        a = p.OrbMaj \n",
    "        r = (e + 1)*a\n",
    "        return r.to_value(u.m)\n",
    "    def initVel(p):\n",
    "        M = SMass.to(u.kg)\n",
    "        m = (p.PMass).to(u.kg) \n",
    "        x = c.G.value * (M + m)\n",
    "        y = ((2 / (planets.real_radii(p).value)) - (1 / p.OrbMaj.to_value(u.m)))\n",
    "        return np.sqrt(x * y)\n",
    "pl = []\n",
    "for i in range(1, 7):\n",
    "    iOrbPer = K11Data.iloc[i, 8] * u.day\n",
    "    iOrbMaj = K11Data.iloc[i, 12] * u.au\n",
    "    iOrbEcc = float(K11Data.iloc[i, 33])\n",
    "    iPRad = K11Data.iloc[i, 16] * u.earthRad\n",
    "    iPMass = K11Data.iloc[i, 24] * u.earthMass\n",
    "    pl.append(planets(iOrbPer, iOrbMaj, iOrbEcc, iPRad, iPMass))\n",
    "planets.real_radii(pl[2])\n",
    "x = SMass.to(u.kg)\n",
    "print(pl[0].PMass)\n",
    "x.unit.decompose"
   ]
  },
  {
   "cell_type": "code",
   "execution_count": 25,
   "id": "adc8b8ee",
   "metadata": {},
   "outputs": [
    {
     "data": {
      "text/plain": [
       "\"#Accelerations from centripetal and gravitational forces\\n# r1 is the radius vector of the planet, v1 is its velocity\\n# m2 is the STAR's mass\\ndef cent_accel (r1, v1): # where r1 and v1 are vectors already\\n    rad_mag = np.linalg.norm(r1)\\n    #vel_perp = np.cross(v1, r1) / rad_mag\\n    velp_mag = np.linalg.norm(v1)\\n    cent_uvec = -np.cross(v1, [0, 0, np.cross(v1,r1)]) / (velp_mag**2 * rad_mag) #pointing the unit vector to norm the orbital path \\n    cent_accel_mag = (velp_mag)**2 / rad_mag\\n    RESHAPE = cent_accel_mag * cent_uvec # IM RESHAPING FROM 3D TO 2D\\n    cent_accel_vec = np.array([RESHAPE[0],RESHAPE[1]])\\n    return cent_accel_vec\\n\\ndef grav_accel (r1, m2): # where r1 is a vector\\n    rad_mag = np.linalg.norm(r1) #distance from star to planet\\n    rad_uvec = r1 / rad_mag\\n    grav_accel_mag = (c.G.value * m2) / rad_mag**2 \\n    grav_accel_vec = grav_accel_mag * -rad_uvec\\n    return grav_accel_vec\\n\\ndef tot_accel (r1, v1, m2):\\n    #c_accel = cent_accel(r1, v1)\\n    g_accel = grav_accel(r1, m2)\\n    return g_accel #+ c_accel\\n\\ndef OrbitEquation(w, t, m1, m2): # w is an array containing positions and velocities\\n    r1 = w[:2]\\n    \\n    v1 = w[2:4]\\n    \\n    acceleration = tot_accel(r1, v1, m2) # derivative of velocity (accel)\\n    velocity = v1 + t*acceleration # derivative of position (vel)\\n\\n    derivs = np.concatenate((velocity, acceleration)) # joining the two arrays, definitely remember concatenate\\n    \\n    return derivs\""
      ]
     },
     "execution_count": 25,
     "metadata": {},
     "output_type": "execute_result"
    }
   ],
   "source": [
    "\"\"\"#Accelerations from centripetal and gravitational forces\n",
    "# r1 is the radius vector of the planet, v1 is its velocity\n",
    "# m2 is the STAR's mass\n",
    "def cent_accel (r1, v1): # where r1 and v1 are vectors already\n",
    "    rad_mag = np.linalg.norm(r1)\n",
    "    #vel_perp = np.cross(v1, r1) / rad_mag\n",
    "    velp_mag = np.linalg.norm(v1)\n",
    "    cent_uvec = -np.cross(v1, [0, 0, np.cross(v1,r1)]) / (velp_mag**2 * rad_mag) #pointing the unit vector to norm the orbital path \n",
    "    cent_accel_mag = (velp_mag)**2 / rad_mag\n",
    "    RESHAPE = cent_accel_mag * cent_uvec # IM RESHAPING FROM 3D TO 2D\n",
    "    cent_accel_vec = np.array([RESHAPE[0],RESHAPE[1]])\n",
    "    return cent_accel_vec\n",
    "\n",
    "def grav_accel (r1, m2): # where r1 is a vector\n",
    "    rad_mag = np.linalg.norm(r1) #distance from star to planet\n",
    "    rad_uvec = r1 / rad_mag\n",
    "    grav_accel_mag = (c.G.value * m2) / rad_mag**2 \n",
    "    grav_accel_vec = grav_accel_mag * -rad_uvec\n",
    "    return grav_accel_vec\n",
    "\n",
    "def tot_accel (r1, v1, m2):\n",
    "    #c_accel = cent_accel(r1, v1)\n",
    "    g_accel = grav_accel(r1, m2)\n",
    "    return g_accel #+ c_accel\n",
    "\n",
    "def OrbitEquation(w, t, m1, m2): # w is an array containing positions and velocities\n",
    "    r1 = w[:2]\n",
    "    \n",
    "    v1 = w[2:4]\n",
    "    \n",
    "    acceleration = tot_accel(r1, v1, m2) # derivative of velocity (accel)\n",
    "    velocity = v1 + t*acceleration # derivative of position (vel)\n",
    "\n",
    "    derivs = np.concatenate((velocity, acceleration)) # joining the two arrays, definitely remember concatenate\n",
    "    \n",
    "    return derivs\"\"\""
   ]
  },
  {
   "cell_type": "code",
   "execution_count": 26,
   "id": "c9ad7c21",
   "metadata": {},
   "outputs": [],
   "source": [
    "### CHUZIDAS NEW CODE FOR MOTION ###\n",
    "\n",
    "# the model for integration:\n",
    "def modelx(X, t):\n",
    "    M_s = SMass.to(u.kg)\n",
    "    return[X[1], c.G.value * M_s/np.square(X[0])]\n",
    "#X[0] is the x-velocity\n",
    "#X[1] is the x-acceleration\n",
    "def modely(Y,t):\n",
    "    M_s = SMass.to(u.kg)\n",
    "    return[Y[1], c.G.value * M_s/np.square(Y[0])]\n",
    "#Y[0] is the y-velocity\n",
    "#Y[1] is the y-acceleration\n",
    "\n"
   ]
  },
  {
   "cell_type": "code",
   "execution_count": 36,
   "id": "0b18cecc",
   "metadata": {},
   "outputs": [
    {
     "ename": "UnitConversionError",
     "evalue": "Can only apply 'add' function to dimensionless quantities when other argument is not a quantity (unless the latter is all zero/infinity/nan)",
     "output_type": "error",
     "traceback": [
      "\u001b[1;31m---------------------------------------------------------------------------\u001b[0m",
      "\u001b[1;31mUnitConversionError\u001b[0m                       Traceback (most recent call last)",
      "\u001b[1;32m~\\AppData\\Local\\Temp\\ipykernel_11384\\1692301409.py\u001b[0m in \u001b[0;36m<module>\u001b[1;34m\u001b[0m\n\u001b[0;32m     10\u001b[0m \u001b[1;31m#The differential equation of motion:\u001b[0m\u001b[1;33m\u001b[0m\u001b[1;33m\u001b[0m\u001b[0m\n\u001b[0;32m     11\u001b[0m     \u001b[0mrad0\u001b[0m \u001b[1;33m=\u001b[0m \u001b[0mplanets\u001b[0m\u001b[1;33m.\u001b[0m\u001b[0mreal_radii\u001b[0m\u001b[1;33m(\u001b[0m\u001b[0mpl\u001b[0m\u001b[1;33m[\u001b[0m\u001b[0mi\u001b[0m\u001b[1;33m]\u001b[0m\u001b[1;33m)\u001b[0m\u001b[1;33m\u001b[0m\u001b[1;33m\u001b[0m\u001b[0m\n\u001b[1;32m---> 12\u001b[1;33m     \u001b[0mvel0\u001b[0m \u001b[1;33m=\u001b[0m \u001b[0mplanets\u001b[0m\u001b[1;33m.\u001b[0m\u001b[0minitVel\u001b[0m\u001b[1;33m(\u001b[0m\u001b[0mpl\u001b[0m\u001b[1;33m[\u001b[0m\u001b[0mi\u001b[0m\u001b[1;33m]\u001b[0m\u001b[1;33m)\u001b[0m\u001b[1;33m\u001b[0m\u001b[1;33m\u001b[0m\u001b[0m\n\u001b[0m\u001b[0;32m     13\u001b[0m     \u001b[0mXi\u001b[0m \u001b[1;33m=\u001b[0m \u001b[0mnp\u001b[0m\u001b[1;33m.\u001b[0m\u001b[0marray\u001b[0m\u001b[1;33m(\u001b[0m\u001b[1;33m(\u001b[0m\u001b[0mrad0\u001b[0m\u001b[1;33m,\u001b[0m \u001b[1;36m0\u001b[0m\u001b[1;33m)\u001b[0m\u001b[1;33m)\u001b[0m\u001b[1;33m\u001b[0m\u001b[1;33m\u001b[0m\u001b[0m\n\u001b[0;32m     14\u001b[0m     \u001b[0mYi\u001b[0m \u001b[1;33m=\u001b[0m \u001b[0mnp\u001b[0m\u001b[1;33m.\u001b[0m\u001b[0marray\u001b[0m\u001b[1;33m(\u001b[0m\u001b[1;33m(\u001b[0m\u001b[1;36m0\u001b[0m\u001b[1;33m,\u001b[0m \u001b[0mvel0\u001b[0m\u001b[1;33m)\u001b[0m\u001b[1;33m)\u001b[0m\u001b[1;33m\u001b[0m\u001b[1;33m\u001b[0m\u001b[0m\n",
      "\u001b[1;32m~\\AppData\\Local\\Temp\\ipykernel_11384\\3964556646.py\u001b[0m in \u001b[0;36minitVel\u001b[1;34m(p)\u001b[0m\n\u001b[0;32m     22\u001b[0m         \u001b[0mM\u001b[0m \u001b[1;33m=\u001b[0m \u001b[0mSMass\u001b[0m\u001b[1;33m.\u001b[0m\u001b[0mto\u001b[0m\u001b[1;33m(\u001b[0m\u001b[0mu\u001b[0m\u001b[1;33m.\u001b[0m\u001b[0mkg\u001b[0m\u001b[1;33m)\u001b[0m\u001b[1;33m\u001b[0m\u001b[1;33m\u001b[0m\u001b[0m\n\u001b[0;32m     23\u001b[0m         \u001b[0mm\u001b[0m \u001b[1;33m=\u001b[0m \u001b[1;33m(\u001b[0m\u001b[0mp\u001b[0m\u001b[1;33m.\u001b[0m\u001b[0mPMass\u001b[0m\u001b[1;33m)\u001b[0m\u001b[1;33m.\u001b[0m\u001b[0mto\u001b[0m\u001b[1;33m(\u001b[0m\u001b[0mu\u001b[0m\u001b[1;33m.\u001b[0m\u001b[0mkg\u001b[0m\u001b[1;33m)\u001b[0m\u001b[1;33m\u001b[0m\u001b[1;33m\u001b[0m\u001b[0m\n\u001b[1;32m---> 24\u001b[1;33m         \u001b[0mx\u001b[0m \u001b[1;33m=\u001b[0m \u001b[0mc\u001b[0m\u001b[1;33m.\u001b[0m\u001b[0mG\u001b[0m\u001b[1;33m.\u001b[0m\u001b[0mvalue\u001b[0m \u001b[1;33m*\u001b[0m \u001b[1;33m(\u001b[0m\u001b[0mM\u001b[0m \u001b[1;33m+\u001b[0m \u001b[0mm\u001b[0m\u001b[1;33m)\u001b[0m\u001b[1;33m\u001b[0m\u001b[1;33m\u001b[0m\u001b[0m\n\u001b[0m\u001b[0;32m     25\u001b[0m         \u001b[0my\u001b[0m \u001b[1;33m=\u001b[0m \u001b[1;33m(\u001b[0m\u001b[1;33m(\u001b[0m\u001b[1;36m2\u001b[0m \u001b[1;33m/\u001b[0m \u001b[1;33m(\u001b[0m\u001b[0mplanets\u001b[0m\u001b[1;33m.\u001b[0m\u001b[0mreal_radii\u001b[0m\u001b[1;33m(\u001b[0m\u001b[0mp\u001b[0m\u001b[1;33m)\u001b[0m\u001b[1;33m.\u001b[0m\u001b[0mvalue\u001b[0m\u001b[1;33m)\u001b[0m\u001b[1;33m)\u001b[0m \u001b[1;33m-\u001b[0m \u001b[1;33m(\u001b[0m\u001b[1;36m1\u001b[0m \u001b[1;33m/\u001b[0m \u001b[0mp\u001b[0m\u001b[1;33m.\u001b[0m\u001b[0mOrbMaj\u001b[0m\u001b[1;33m.\u001b[0m\u001b[0mto_value\u001b[0m\u001b[1;33m(\u001b[0m\u001b[0mu\u001b[0m\u001b[1;33m.\u001b[0m\u001b[0mm\u001b[0m\u001b[1;33m)\u001b[0m\u001b[1;33m)\u001b[0m\u001b[1;33m)\u001b[0m\u001b[1;33m\u001b[0m\u001b[1;33m\u001b[0m\u001b[0m\n\u001b[0;32m     26\u001b[0m         \u001b[1;32mreturn\u001b[0m \u001b[0mnp\u001b[0m\u001b[1;33m.\u001b[0m\u001b[0msqrt\u001b[0m\u001b[1;33m(\u001b[0m\u001b[0mx\u001b[0m \u001b[1;33m*\u001b[0m \u001b[0my\u001b[0m\u001b[1;33m)\u001b[0m\u001b[1;33m\u001b[0m\u001b[1;33m\u001b[0m\u001b[0m\n",
      "\u001b[1;32m~\\anaconda3\\lib\\site-packages\\astropy\\units\\quantity.py\u001b[0m in \u001b[0;36m__array_ufunc__\u001b[1;34m(self, function, method, *inputs, **kwargs)\u001b[0m\n\u001b[0;32m    589\u001b[0m         \u001b[1;31m# consistent units between two inputs (e.g., in np.add) --\u001b[0m\u001b[1;33m\u001b[0m\u001b[1;33m\u001b[0m\u001b[0m\n\u001b[0;32m    590\u001b[0m         \u001b[1;31m# and the unit of the result (or tuple of units for nout > 1).\u001b[0m\u001b[1;33m\u001b[0m\u001b[1;33m\u001b[0m\u001b[0m\n\u001b[1;32m--> 591\u001b[1;33m         \u001b[0mconverters\u001b[0m\u001b[1;33m,\u001b[0m \u001b[0munit\u001b[0m \u001b[1;33m=\u001b[0m \u001b[0mconverters_and_unit\u001b[0m\u001b[1;33m(\u001b[0m\u001b[0mfunction\u001b[0m\u001b[1;33m,\u001b[0m \u001b[0mmethod\u001b[0m\u001b[1;33m,\u001b[0m \u001b[1;33m*\u001b[0m\u001b[0minputs\u001b[0m\u001b[1;33m)\u001b[0m\u001b[1;33m\u001b[0m\u001b[1;33m\u001b[0m\u001b[0m\n\u001b[0m\u001b[0;32m    592\u001b[0m \u001b[1;33m\u001b[0m\u001b[0m\n\u001b[0;32m    593\u001b[0m         \u001b[0mout\u001b[0m \u001b[1;33m=\u001b[0m \u001b[0mkwargs\u001b[0m\u001b[1;33m.\u001b[0m\u001b[0mget\u001b[0m\u001b[1;33m(\u001b[0m\u001b[1;34m'out'\u001b[0m\u001b[1;33m,\u001b[0m \u001b[1;32mNone\u001b[0m\u001b[1;33m)\u001b[0m\u001b[1;33m\u001b[0m\u001b[1;33m\u001b[0m\u001b[0m\n",
      "\u001b[1;32m~\\anaconda3\\lib\\site-packages\\astropy\\units\\quantity_helper\\converters.py\u001b[0m in \u001b[0;36mconverters_and_unit\u001b[1;34m(function, method, *args)\u001b[0m\n\u001b[0;32m    190\u001b[0m                         \u001b[0mconverters\u001b[0m\u001b[1;33m[\u001b[0m\u001b[0mi\u001b[0m\u001b[1;33m]\u001b[0m \u001b[1;33m=\u001b[0m \u001b[1;32mNone\u001b[0m\u001b[1;33m\u001b[0m\u001b[1;33m\u001b[0m\u001b[0m\n\u001b[0;32m    191\u001b[0m                     \u001b[1;32melse\u001b[0m\u001b[1;33m:\u001b[0m\u001b[1;33m\u001b[0m\u001b[1;33m\u001b[0m\u001b[0m\n\u001b[1;32m--> 192\u001b[1;33m                         raise UnitConversionError(\n\u001b[0m\u001b[0;32m    193\u001b[0m                             \u001b[1;34m\"Can only apply '{}' function to \"\u001b[0m\u001b[1;33m\u001b[0m\u001b[1;33m\u001b[0m\u001b[0m\n\u001b[0;32m    194\u001b[0m                             \u001b[1;34m\"dimensionless quantities when other \"\u001b[0m\u001b[1;33m\u001b[0m\u001b[1;33m\u001b[0m\u001b[0m\n",
      "\u001b[1;31mUnitConversionError\u001b[0m: Can only apply 'add' function to dimensionless quantities when other argument is not a quantity (unless the latter is all zero/infinity/nan)"
     ]
    }
   ],
   "source": [
    "#INTEGRATING AND DETERMINING THE POSITIONS\n",
    "\n",
    "# Define variables for a planet\n",
    "sol = np.array([],[])\n",
    "for i in range (0,1): #will change to 0,6 once I get the np.array to append properly\n",
    "    \"\"\"mp = pl[i].PMass.to(u.kg) # mass of planet\n",
    "    ms = SMass.to(u.kg) #star\n",
    "    ri = planets.simple_radii(pl[i]) / u.m\n",
    "    vi = ((c.G.value*ms) / (ri))**(1/2)\"\"\"\n",
    "#The differential equation of motion:\n",
    "    rad0 = planets.real_radii(pl[i])\n",
    "    vel0 = planets.initVel(pl[i])\n",
    "    Xi = np.array((rad0, 0))\n",
    "    Yi = np.array((0, vel0))\n",
    "    xpos = np.array(())\n",
    "    ypos = np.array(())\n",
    "\n",
    "    step = np.linspace(0, 4e5, 200)\n",
    "    xpos = scipy.integrate.odeint(modelx,[Xi[0], Xi[1]], step)\n",
    "    ypos = scipy.integrate.odeint(modely,[Yi[0], Yi[1]], step)\n",
    "    \n",
    "    # REORIENT INTO ONE LIST\n",
    "    funky = np.array[()]\n",
    "    for i in range(0, (len(xpos)) / 2):\n",
    "        funky = np.append(funky, xpos[i])\n",
    "        funky = np.append(funky, xpos[i + 1])\n",
    "        funky = np.append(funky, ypos[i])\n",
    "        funky = np.append(funky, ypos[i + 1])\n",
    "    \n",
    "\"\"\"# INITAL position vectors \n",
    "    r1 = np.array([ri, 0])\n",
    "    r2 = np.array([0, 0]) # at orgin\n",
    "\n",
    "# INITIAL velocities of each planet\n",
    "    v1 = np.array([0, vi])\n",
    "    v2 = np.array([0, 0]) # stationary sun in this equation\n",
    "    \n",
    "# Package initial parameters into one array (just easier to work with this way)\n",
    "    init_params = np.array([r1, v1])\n",
    "    init_params = init_params.flatten()\n",
    "    time_span = np.linspace(0, 4e5, 800)  # run for 1e6 (~12 days) with 500 points\n",
    "    print(\"i\")\n",
    "# Run the ODE solver to solve for position of each planet\n",
    "    funky = scipy.integrate.odeint(OrbitEquation, init_params, time_span, args=(mp,ms))\n",
    "    #sol = np.append(sol, funky, axis=0) \"\"\"\n",
    "    \n",
    "    \n",
    "\n",
    "print(funky)"
   ]
  },
  {
   "cell_type": "code",
   "execution_count": 8,
   "id": "826d968d",
   "metadata": {},
   "outputs": [
    {
     "data": {
      "text/plain": [
       "<Figure size 1280x960 with 0 Axes>"
      ]
     },
     "metadata": {},
     "output_type": "display_data"
    }
   ],
   "source": [
    "# Initilize writer \n",
    "metadata = dict(title='2D testing', artist='Nicooo')\n",
    "writer = FFMpegWriter(fps=24, metadata=metadata, bitrate=2000)\n",
    "fig = plt.figure(dpi=200)"
   ]
  },
  {
   "cell_type": "code",
   "execution_count": 9,
   "id": "1053f14c",
   "metadata": {},
   "outputs": [
    {
     "ename": "NameError",
     "evalue": "name 'funky' is not defined",
     "output_type": "error",
     "traceback": [
      "\u001b[1;31m---------------------------------------------------------------------------\u001b[0m",
      "\u001b[1;31mNameError\u001b[0m                                 Traceback (most recent call last)",
      "\u001b[1;32m~\\AppData\\Local\\Temp\\ipykernel_11384\\4110468152.py\u001b[0m in \u001b[0;36m<module>\u001b[1;34m\u001b[0m\n\u001b[1;32m----> 1\u001b[1;33m \u001b[0mr1_sol\u001b[0m \u001b[1;33m=\u001b[0m \u001b[0mfunky\u001b[0m\u001b[1;33m[\u001b[0m\u001b[1;33m:\u001b[0m\u001b[1;36m500\u001b[0m\u001b[1;33m,\u001b[0m\u001b[1;33m:\u001b[0m\u001b[1;36m2\u001b[0m\u001b[1;33m]\u001b[0m\u001b[1;33m\u001b[0m\u001b[1;33m\u001b[0m\u001b[0m\n\u001b[0m\u001b[0;32m      2\u001b[0m \u001b[1;33m\u001b[0m\u001b[0m\n\u001b[0;32m      3\u001b[0m \u001b[1;31m# SAVE AS MP4 (will be saved in whatever directory you are working in)\u001b[0m\u001b[1;33m\u001b[0m\u001b[1;33m\u001b[0m\u001b[0m\n\u001b[0;32m      4\u001b[0m \u001b[0mfig\u001b[0m\u001b[1;33m,\u001b[0m \u001b[0max\u001b[0m \u001b[1;33m=\u001b[0m \u001b[0mplt\u001b[0m\u001b[1;33m.\u001b[0m\u001b[0msubplots\u001b[0m\u001b[1;33m(\u001b[0m\u001b[1;33m)\u001b[0m\u001b[1;33m\u001b[0m\u001b[1;33m\u001b[0m\u001b[0m\n\u001b[0;32m      5\u001b[0m \u001b[1;33m\u001b[0m\u001b[0m\n",
      "\u001b[1;31mNameError\u001b[0m: name 'funky' is not defined"
     ]
    }
   ],
   "source": [
    "r1_sol = funky[:500,:2]\n",
    "\n",
    "# SAVE AS MP4 (will be saved in whatever directory you are working in)\n",
    "fig, ax = plt.subplots()\n",
    "\n",
    "with writer.saving(fig, \"simple_orbit.mp4\", dpi=200):\n",
    "    for i in range(len(time_span)):\n",
    "\n",
    "        ax.clear()\n",
    "\n",
    "        ax.plot(r1_sol[:i,0],r1_sol[:i,1],color=\"brown\", alpha=0.5)\n",
    "        ax.scatter(r1_sol[i,0],r1_sol[i,1],color=\"brown\",marker=\"o\",s=20, zorder=5) # planet\n",
    "        \n",
    "        ax.scatter(0, 0, color=\"red\",marker=\"*\",s=50, zorder=5) # star\n",
    "        \n",
    "        ax.set_xlim(-5e10, 5e10)\n",
    "        ax.set_ylim(-5e10, 5e10)\n",
    "        \n",
    "        plt.draw()\n",
    "        plt.pause(0.008)\n",
    "        writer.grab_frame()"
   ]
  },
  {
   "cell_type": "code",
   "execution_count": 200,
   "id": "05a841ab",
   "metadata": {},
   "outputs": [
    {
     "data": {
      "text/latex": [
       "$\\mathrm{1.9\\,M_{\\oplus}}$"
      ],
      "text/plain": [
       "Unit(\"1.9 earthMass\")"
      ]
     },
     "execution_count": 200,
     "metadata": {},
     "output_type": "execute_result"
    }
   ],
   "source": [
    "pl[0].PMass"
   ]
  },
  {
   "cell_type": "code",
   "execution_count": 108,
   "id": "9d69a8be",
   "metadata": {},
   "outputs": [
    {
     "data": {
      "text/latex": [
       "$96519.661 \\; \\mathrm{}$"
      ],
      "text/plain": [
       "<Quantity 96519.66056104>"
      ]
     },
     "execution_count": 108,
     "metadata": {},
     "output_type": "execute_result"
    }
   ],
   "source": [
    "(ri * 2*np.pi) / pl[0].OrbPer.to(u.s)"
   ]
  },
  {
   "cell_type": "code",
   "execution_count": 156,
   "id": "972faf47",
   "metadata": {},
   "outputs": [
    {
     "data": {
      "text/plain": [
       "1.134711894880362e+25"
      ]
     },
     "execution_count": 156,
     "metadata": {},
     "output_type": "execute_result"
    }
   ],
   "source": [
    "pl[0].PMass.to(u.kg)"
   ]
  },
  {
   "cell_type": "code",
   "execution_count": 73,
   "id": "36c7f8d1",
   "metadata": {},
   "outputs": [],
   "source": [
    "x = planets.simple_radii(pl[0])"
   ]
  },
  {
   "cell_type": "code",
   "execution_count": 74,
   "id": "1cf45601",
   "metadata": {},
   "outputs": [
    {
     "data": {
      "text/latex": [
       "$0.091416772 \\; \\mathrm{AU}$"
      ],
      "text/plain": [
       "<Quantity 0.09141677 AU>"
      ]
     },
     "execution_count": 74,
     "metadata": {},
     "output_type": "execute_result"
    }
   ],
   "source": [
    "x.to(u.au) # NOTE: Using the simple radii function I'm abler to get the same values from NASA! :))"
   ]
  },
  {
   "cell_type": "code",
   "execution_count": 42,
   "id": "c56a1499",
   "metadata": {},
   "outputs": [
    {
     "name": "stdout",
     "output_type": "stream",
     "text": [
      "[-2.  2.]\n"
     ]
    }
   ],
   "source": [
    "r1 = [0,1]\n",
    "v1 = [1,1]\n",
    "\n",
    "#cent_uvec = -np.cross(v1, [0, 0, np.cross(v1,r1)])\n",
    "#cent_uvec\n",
    "x =cent_accel(r1, v1)\n",
    "x = np.array([x[0],x[1]])\n",
    "print(x)"
   ]
  },
  {
   "cell_type": "code",
   "execution_count": 52,
   "id": "f74fee44",
   "metadata": {},
   "outputs": [
    {
     "name": "stdout",
     "output_type": "stream",
     "text": [
      "2555.7371781742086\n",
      "2435.7406619630124\n",
      "215.79832612211112\n",
      "767.5716213039001\n",
      "1011.5138901486864\n"
     ]
    },
    {
     "data": {
      "text/latex": [
       "$1.5987554 \\times 10^{10} \\; \\mathrm{m}$"
      ],
      "text/plain": [
       "<Quantity 1.59875538e+10 m>"
      ]
     },
     "execution_count": 52,
     "metadata": {},
     "output_type": "execute_result"
    }
   ],
   "source": [
    "for i in range (1,6):\n",
    "    e = (K11Data.iloc[i,33]*u.s).to(u.s) #eccentricity (unitless))\n",
    "    Mp = (K11Data.iloc[i,25]*u.earthMass).to(u.kg) #planet mass in kg (csv in Earth masses)\n",
    "    T = (K11Data.iloc[i,9]*u.d).to(u.s)\n",
    "    initpos = e * np.cbrt((c.G.value*Mp*T) / (4 * np.pi)**2) #defining initial position (meters??)\n",
    "    print(initpos)\n",
    "    \n",
    "planets.simple_radii(pl[1]) "
   ]
  },
  {
   "cell_type": "code",
   "execution_count": 58,
   "id": "463ac8b1",
   "metadata": {},
   "outputs": [
    {
     "data": {
      "text/latex": [
       "$1.6423153 \\times 10^{10} \\; \\mathrm{m}$"
      ],
      "text/plain": [
       "<Quantity 1.64231534e+10 m>"
      ]
     },
     "execution_count": 58,
     "metadata": {},
     "output_type": "execute_result"
    }
   ],
   "source": [
    "planets.real_radii(pl[1]) * u.dimensionless_unscaled"
   ]
  },
  {
   "cell_type": "code",
   "execution_count": 69,
   "id": "7ab08b7c",
   "metadata": {},
   "outputs": [
    {
     "data": {
      "text/plain": [
       "14226009514"
      ]
     },
     "execution_count": 69,
     "metadata": {},
     "output_type": "execute_result"
    }
   ],
   "source": [
    "int(rad0)\n"
   ]
  },
  {
   "cell_type": "code",
   "execution_count": 68,
   "id": "c13c9d27",
   "metadata": {},
   "outputs": [
    {
     "data": {
      "text/plain": [
       "92481"
      ]
     },
     "execution_count": 68,
     "metadata": {},
     "output_type": "execute_result"
    }
   ],
   "source": [
    "int(vel0)"
   ]
  },
  {
   "cell_type": "code",
   "execution_count": 10,
   "id": "a9a11b97",
   "metadata": {},
   "outputs": [
    {
     "data": {
      "text/plain": [
       "'0.96'"
      ]
     },
     "execution_count": 10,
     "metadata": {},
     "output_type": "execute_result"
    }
   ],
   "source": [
    "K11Data.iloc[1,55]\n"
   ]
  },
  {
   "cell_type": "code",
   "execution_count": 32,
   "id": "8294eaa9",
   "metadata": {},
   "outputs": [
    {
     "data": {
      "text/plain": [
       "6.6743e-11"
      ]
     },
     "execution_count": 32,
     "metadata": {},
     "output_type": "execute_result"
    }
   ],
   "source": [
    "c.G.value"
   ]
  },
  {
   "cell_type": "code",
   "execution_count": null,
   "id": "aff4f6a0",
   "metadata": {},
   "outputs": [],
   "source": []
  }
 ],
 "metadata": {
  "kernelspec": {
   "display_name": "Python 3 (ipykernel)",
   "language": "python",
   "name": "python3"
  },
  "language_info": {
   "codemirror_mode": {
    "name": "ipython",
    "version": 3
   },
   "file_extension": ".py",
   "mimetype": "text/x-python",
   "name": "python",
   "nbconvert_exporter": "python",
   "pygments_lexer": "ipython3",
   "version": "3.9.13"
  }
 },
 "nbformat": 4,
 "nbformat_minor": 5
}
