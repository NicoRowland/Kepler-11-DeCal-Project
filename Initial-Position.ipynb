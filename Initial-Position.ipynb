{
 "cells": [
  {
   "cell_type": "code",
   "execution_count": 2,
   "id": "381e1c82",
   "metadata": {},
   "outputs": [],
   "source": [
    "#import statements\n",
    "import pandas as pd\n",
    "import numpy as np\n",
    "import astropy.units as u\n",
    "import astropy.constants as c\n",
    "import matplotlib.pyplot as plt\n",
    "\n",
    "import scipy\n",
    "import scipy.integrate\n",
    "from scipy.misc import derivative\n",
    "from scipy import integrate \n",
    "\n",
    "from mpl_toolkits.mplot3d import Axes3D\n",
    "from matplotlib.animation import FFMpegWriter"
   ]
  },
  {
   "cell_type": "code",
   "execution_count": 3,
   "id": "41a1bedc",
   "metadata": {},
   "outputs": [],
   "source": [
    "K11Data = pd.read_csv('Kepler11Data.csv', header=None)"
   ]
  },
  {
   "cell_type": "code",
   "execution_count": 8,
   "id": "030d3e3f",
   "metadata": {},
   "outputs": [
    {
     "ename": "SyntaxError",
     "evalue": "unexpected EOF while parsing (1467016250.py, line 5)",
     "output_type": "error",
     "traceback": [
      "\u001b[1;36m  File \u001b[1;32m\"C:\\Users\\bubbl\\AppData\\Local\\Temp\\ipykernel_19448\\1467016250.py\"\u001b[1;36m, line \u001b[1;32m5\u001b[0m\n\u001b[1;33m    initpos=(e*np.cbrt((c.G*Mp*T)/(4*np.pi)**2)) + (np.cbrt((c.G*Mp*T)/(4*np.pi)**2) #defining initial position\u001b[0m\n\u001b[1;37m                                                                                                               ^\u001b[0m\n\u001b[1;31mSyntaxError\u001b[0m\u001b[1;31m:\u001b[0m unexpected EOF while parsing\n"
     ]
    }
   ],
   "source": [
    "for i in range (1,6):\n",
    "    e=(K11Data.iloc[i,13]*1.496*10**11)*u.meter #eccentricity in meters (csv in AU)\n",
    "    Mp=(K11Data.iloc[i,25]*5.972*10**24)*u.kg #planet mass in kg (csv in Earth masses)\n",
    "    T=(K11Data.iloc[i,9])*u.d #orbital period in days\n",
    "    initpos=(e*np.cbrt((c.G*Mp*T)/(4*np.pi)**2)) + (np.cbrt((c.G*Mp*T)/(4*np.pi)**2) #defining initial position"
   ]
  },
  {
   "cell_type": "code",
   "execution_count": null,
   "id": "c0d60a82",
   "metadata": {},
   "outputs": [],
   "source": []
  }
 ],
 "metadata": {
  "kernelspec": {
   "display_name": "Python 3 (ipykernel)",
   "language": "python",
   "name": "python3"
  },
  "language_info": {
   "codemirror_mode": {
    "name": "ipython",
    "version": 3
   },
   "file_extension": ".py",
   "mimetype": "text/x-python",
   "name": "python",
   "nbconvert_exporter": "python",
   "pygments_lexer": "ipython3",
   "version": "3.9.13"
  }
 },
 "nbformat": 4,
 "nbformat_minor": 5
}
